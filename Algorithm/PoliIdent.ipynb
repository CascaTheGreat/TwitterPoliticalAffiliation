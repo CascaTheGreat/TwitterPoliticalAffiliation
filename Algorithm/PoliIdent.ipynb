{
 "cells": [
  {
   "cell_type": "code",
   "execution_count": 1,
   "metadata": {},
   "outputs": [
    {
     "name": "stdout",
     "output_type": "stream",
     "text": [
      "2.11.0\n"
     ]
    }
   ],
   "source": [
    "import numpy as np\n",
    "import pandas as pd\n",
    "import matplotlib.pyplot as plt\n",
    "import tensorflow as tf\n",
    "print(tf.__version__)\n",
    "import warnings\n",
    "warnings.filterwarnings('ignore')"
   ]
  },
  {
   "cell_type": "code",
   "execution_count": 2,
   "metadata": {},
   "outputs": [],
   "source": [
    "from tensorflow import keras\n",
    "from keras.preprocessing.text import Tokenizer\n",
    "from keras.utils import pad_sequences"
   ]
  },
  {
   "cell_type": "code",
   "execution_count": 3,
   "metadata": {},
   "outputs": [],
   "source": [
    "ds = pd.read_csv('train_data_fixed.csv')\n",
    "numConversion = [\"left\", \"right\", \"center\", \"auth\", \"liberal\"]\n",
    "#lambda function to convert x to lowercase and strip all spaces\n",
    "ds['mainlean'] = ds.mainlean.apply(lambda x: numConversion.index(x.lower().strip()))\n",
    "ds.dtypes\n",
    "df=ds.sample(frac=1)"
   ]
  },
  {
   "cell_type": "code",
   "execution_count": 4,
   "metadata": {},
   "outputs": [
    {
     "data": {
      "text/html": [
       "<div>\n",
       "<style scoped>\n",
       "    .dataframe tbody tr th:only-of-type {\n",
       "        vertical-align: middle;\n",
       "    }\n",
       "\n",
       "    .dataframe tbody tr th {\n",
       "        vertical-align: top;\n",
       "    }\n",
       "\n",
       "    .dataframe thead th {\n",
       "        text-align: right;\n",
       "    }\n",
       "</style>\n",
       "<table border=\"1\" class=\"dataframe\">\n",
       "  <thead>\n",
       "    <tr style=\"text-align: right;\">\n",
       "      <th></th>\n",
       "      <th>tweet</th>\n",
       "      <th>mainlean</th>\n",
       "      <th>secondlean</th>\n",
       "    </tr>\n",
       "  </thead>\n",
       "  <tbody>\n",
       "    <tr>\n",
       "      <th>84696</th>\n",
       "      <td>Throughout the pandemic nurses have put their ...</td>\n",
       "      <td>0</td>\n",
       "      <td>NaN</td>\n",
       "    </tr>\n",
       "  </tbody>\n",
       "</table>\n",
       "</div>"
      ],
      "text/plain": [
       "                                                   tweet  mainlean secondlean\n",
       "84696  Throughout the pandemic nurses have put their ...         0        NaN"
      ]
     },
     "execution_count": 4,
     "metadata": {},
     "output_type": "execute_result"
    }
   ],
   "source": [
    "df.head(1)"
   ]
  },
  {
   "cell_type": "code",
   "execution_count": 5,
   "metadata": {},
   "outputs": [],
   "source": [
    "split = round(len(df)*0.8)\n",
    "train_tweets = df['tweet'][:split]\n",
    "train_label = df['mainlean'][:split]\n",
    "test_tweets = df['tweet'][split:]\n",
    "test_label = df['mainlean'][split:]"
   ]
  },
  {
   "cell_type": "code",
   "execution_count": 6,
   "metadata": {},
   "outputs": [],
   "source": [
    "training_sentences = []\n",
    "training_labels = []\n",
    "testing_sentences = []\n",
    "testing_labels = []\n",
    "for row in train_tweets:\n",
    "    training_sentences.append(str(row))\n",
    "for row in train_label:\n",
    "    training_labels.append((row))\n",
    "for row in test_tweets:\n",
    "    testing_sentences.append(str(row))\n",
    "for row in test_label:\n",
    "    testing_labels.append((row))"
   ]
  },
  {
   "cell_type": "code",
   "execution_count": 7,
   "metadata": {},
   "outputs": [
    {
     "name": "stdout",
     "output_type": "stream",
     "text": [
      "0\n"
     ]
    }
   ],
   "source": [
    "print((training_labels[0]))"
   ]
  },
  {
   "cell_type": "code",
   "execution_count": 8,
   "metadata": {},
   "outputs": [],
   "source": [
    "vocab_size = 60000\n",
    "embedding_dim = 18\n",
    "max_length = 280\n",
    "trunc_type = 'post'\n",
    "oov_tok = '<OOV>'\n",
    "padding_type = 'post'"
   ]
  },
  {
   "cell_type": "code",
   "execution_count": 9,
   "metadata": {},
   "outputs": [],
   "source": [
    "tokenizer = Tokenizer(num_words=vocab_size, oov_token=oov_tok)\n",
    "tokenizer.fit_on_texts(training_sentences)\n",
    "word_index = tokenizer.word_index"
   ]
  },
  {
   "cell_type": "code",
   "execution_count": 10,
   "metadata": {},
   "outputs": [],
   "source": [
    "sequences = tokenizer.texts_to_sequences(training_sentences)\n",
    "padded = pad_sequences(sequences, maxlen=max_length, truncating=trunc_type)\n",
    "testing_sentences = tokenizer.texts_to_sequences(testing_sentences)\n",
    "testing_padded = pad_sequences(testing_sentences, maxlen=max_length)"
   ]
  },
  {
   "cell_type": "code",
   "execution_count": 25,
   "metadata": {},
   "outputs": [
    {
     "name": "stdout",
     "output_type": "stream",
     "text": [
      "Model: \"sequential\"\n",
      "_________________________________________________________________\n",
      " Layer (type)                Output Shape              Param #   \n",
      "=================================================================\n",
      " embedding (Embedding)       (None, 280, 18)           1080000   \n",
      "                                                                 \n",
      " global_average_pooling1d (G  (None, 18)               0         \n",
      " lobalAveragePooling1D)                                          \n",
      "                                                                 \n",
      " dense (Dense)               (None, 15)                285       \n",
      "                                                                 \n",
      " dropout (Dropout)           (None, 15)                0         \n",
      "                                                                 \n",
      " dense_1 (Dense)             (None, 5)                 80        \n",
      "                                                                 \n",
      "=================================================================\n",
      "Total params: 1,080,365\n",
      "Trainable params: 1,080,365\n",
      "Non-trainable params: 0\n",
      "_________________________________________________________________\n"
     ]
    }
   ],
   "source": [
    "tf.keras.backend.clear_session()\n",
    "es_callback = tf.keras.callbacks.EarlyStopping(monitor='val_loss', patience=2)\n",
    "model = tf.keras.Sequential([\n",
    "    tf.keras.layers.Embedding(vocab_size, embedding_dim, input_length=int(max_length)),\n",
    "    tf.keras.layers.GlobalAveragePooling1D(),\n",
    "    tf.keras.layers.Dense(15, activation='relu'),\n",
    "    tf.keras.layers.Dropout(0.2),\n",
    "    tf.keras.layers.Dense(5, activation='softmax')\n",
    "])\n",
    "model.compile(loss='sparse_categorical_crossentropy', optimizer='adam', metrics=['accuracy'])\n",
    "model.summary()"
   ]
  },
  {
   "cell_type": "code",
   "execution_count": 26,
   "metadata": {},
   "outputs": [
    {
     "name": "stdout",
     "output_type": "stream",
     "text": [
      "Epoch 1/10\n",
      "3525/3525 [==============================] - 28s 8ms/step - loss: 0.7656 - accuracy: 0.4965 - val_loss: 0.7392 - val_accuracy: 0.4975\n",
      "Epoch 2/10\n",
      "3525/3525 [==============================] - 27s 8ms/step - loss: 0.7008 - accuracy: 0.5831 - val_loss: 0.5290 - val_accuracy: 0.7617\n",
      "Epoch 3/10\n",
      "3525/3525 [==============================] - 27s 8ms/step - loss: 0.4695 - accuracy: 0.7935 - val_loss: 0.4336 - val_accuracy: 0.8116\n",
      "Epoch 4/10\n",
      "3525/3525 [==============================] - 28s 8ms/step - loss: 0.3895 - accuracy: 0.8388 - val_loss: 0.4012 - val_accuracy: 0.8308\n",
      "Epoch 5/10\n",
      "3525/3525 [==============================] - 28s 8ms/step - loss: 0.3422 - accuracy: 0.8647 - val_loss: 0.3754 - val_accuracy: 0.8444\n",
      "Epoch 6/10\n",
      "3525/3525 [==============================] - 28s 8ms/step - loss: 0.3102 - accuracy: 0.8811 - val_loss: 0.3630 - val_accuracy: 0.8510\n",
      "Epoch 7/10\n",
      "3525/3525 [==============================] - 28s 8ms/step - loss: 0.2838 - accuracy: 0.8941 - val_loss: 0.3600 - val_accuracy: 0.8537\n",
      "Epoch 8/10\n",
      "3525/3525 [==============================] - 28s 8ms/step - loss: 0.2649 - accuracy: 0.9023 - val_loss: 0.3868 - val_accuracy: 0.8425\n",
      "Epoch 9/10\n",
      "3525/3525 [==============================] - 28s 8ms/step - loss: 0.2487 - accuracy: 0.9099 - val_loss: 0.3728 - val_accuracy: 0.8563\n"
     ]
    }
   ],
   "source": [
    "training_labels_final = np.array(training_labels)\n",
    "testing_labels_final = np.array(testing_labels)\n",
    "poliIdent = model.fit(padded, training_labels_final, epochs=10, validation_data=(testing_padded, testing_labels_final), callbacks=[es_callback])"
   ]
  },
  {
   "cell_type": "code",
   "execution_count": 27,
   "metadata": {},
   "outputs": [
    {
     "data": {
      "text/plain": [
       "array([[-0.08538548, -0.00694711, -0.006958  , ...,  0.07766363,\n",
       "         0.01360046,  0.01135165],\n",
       "       [-0.4605619 ,  0.3688638 , -0.15768583, ..., -0.35691035,\n",
       "        -0.07755852,  0.2795269 ],\n",
       "       [-0.5378631 ,  0.5442894 , -0.02868105, ..., -0.17634577,\n",
       "         0.10809467,  0.49746355],\n",
       "       ...,\n",
       "       [ 0.14734583,  0.18665616, -0.2020453 , ...,  0.16109364,\n",
       "        -0.23854694,  0.14185299],\n",
       "       [-0.20849594, -0.22215609,  0.19003974, ..., -0.27185673,\n",
       "         0.23192607, -0.22810994],\n",
       "       [ 0.17166565,  0.17356603, -0.23084834, ...,  0.17090242,\n",
       "        -0.1864707 ,  0.17099053]], dtype=float32)"
      ]
     },
     "execution_count": 27,
     "metadata": {},
     "output_type": "execute_result"
    }
   ],
   "source": [
    "model.layers[0].get_weights()[0]"
   ]
  },
  {
   "cell_type": "code",
   "execution_count": 28,
   "metadata": {},
   "outputs": [
    {
     "name": "stderr",
     "output_type": "stream",
     "text": [
      "WARNING:absl:Found untraced functions such as _update_step_xla while saving (showing 1 of 1). These functions will not be directly callable after loading.\n"
     ]
    },
    {
     "name": "stdout",
     "output_type": "stream",
     "text": [
      "INFO:tensorflow:Assets written to: poliIdent\\assets\n"
     ]
    },
    {
     "name": "stderr",
     "output_type": "stream",
     "text": [
      "INFO:tensorflow:Assets written to: poliIdent\\assets\n"
     ]
    }
   ],
   "source": [
    "model.save(\"poliIdent\")"
   ]
  },
  {
   "cell_type": "code",
   "execution_count": null,
   "metadata": {},
   "outputs": [],
   "source": []
  }
 ],
 "metadata": {
  "kernelspec": {
   "display_name": "Python 3.9.13 64-bit (microsoft store)",
   "language": "python",
   "name": "python3"
  },
  "language_info": {
   "codemirror_mode": {
    "name": "ipython",
    "version": 3
   },
   "file_extension": ".py",
   "mimetype": "text/x-python",
   "name": "python",
   "nbconvert_exporter": "python",
   "pygments_lexer": "ipython3",
   "version": "3.9.13 (tags/v3.9.13:6de2ca5, May 17 2022, 16:36:42) [MSC v.1929 64 bit (AMD64)]"
  },
  "orig_nbformat": 4,
  "vscode": {
   "interpreter": {
    "hash": "10c5e9befdbae45659e4351e5177b447a71835d67aea2c4b2282f3718f880185"
   }
  }
 },
 "nbformat": 4,
 "nbformat_minor": 2
}
