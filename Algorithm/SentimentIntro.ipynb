{
 "cells": [
  {
   "cell_type": "code",
   "execution_count": 1,
   "metadata": {},
   "outputs": [],
   "source": [
    "import pandas as pd\n",
    "from sklearn.model_selection import train_test_split"
   ]
  },
  {
   "cell_type": "code",
   "execution_count": 2,
   "metadata": {},
   "outputs": [],
   "source": [
    "df = pd.read_csv('amazon_baby.csv')\n",
    "df['sentiments'] = df.rating.apply(lambda x: 0 if x in [1, 2] else 1)"
   ]
  },
  {
   "cell_type": "code",
   "execution_count": 3,
   "metadata": {},
   "outputs": [
    {
     "data": {
      "text/html": [
       "<div>\n",
       "<style scoped>\n",
       "    .dataframe tbody tr th:only-of-type {\n",
       "        vertical-align: middle;\n",
       "    }\n",
       "\n",
       "    .dataframe tbody tr th {\n",
       "        vertical-align: top;\n",
       "    }\n",
       "\n",
       "    .dataframe thead th {\n",
       "        text-align: right;\n",
       "    }\n",
       "</style>\n",
       "<table border=\"1\" class=\"dataframe\">\n",
       "  <thead>\n",
       "    <tr style=\"text-align: right;\">\n",
       "      <th></th>\n",
       "      <th>name</th>\n",
       "      <th>review</th>\n",
       "      <th>rating</th>\n",
       "      <th>sentiments</th>\n",
       "    </tr>\n",
       "  </thead>\n",
       "  <tbody>\n",
       "    <tr>\n",
       "      <th>0</th>\n",
       "      <td>Planetwise Flannel Wipes</td>\n",
       "      <td>These flannel wipes are OK, but in my opinion ...</td>\n",
       "      <td>3</td>\n",
       "      <td>1</td>\n",
       "    </tr>\n",
       "    <tr>\n",
       "      <th>1</th>\n",
       "      <td>Planetwise Wipe Pouch</td>\n",
       "      <td>it came early and was not disappointed. i love...</td>\n",
       "      <td>5</td>\n",
       "      <td>1</td>\n",
       "    </tr>\n",
       "    <tr>\n",
       "      <th>2</th>\n",
       "      <td>Annas Dream Full Quilt with 2 Shams</td>\n",
       "      <td>Very soft and comfortable and warmer than it l...</td>\n",
       "      <td>5</td>\n",
       "      <td>1</td>\n",
       "    </tr>\n",
       "    <tr>\n",
       "      <th>3</th>\n",
       "      <td>Stop Pacifier Sucking without tears with Thumb...</td>\n",
       "      <td>This is a product well worth the purchase.  I ...</td>\n",
       "      <td>5</td>\n",
       "      <td>1</td>\n",
       "    </tr>\n",
       "    <tr>\n",
       "      <th>4</th>\n",
       "      <td>Stop Pacifier Sucking without tears with Thumb...</td>\n",
       "      <td>All of my kids have cried non-stop when I trie...</td>\n",
       "      <td>5</td>\n",
       "      <td>1</td>\n",
       "    </tr>\n",
       "  </tbody>\n",
       "</table>\n",
       "</div>"
      ],
      "text/plain": [
       "                                                name  \\\n",
       "0                           Planetwise Flannel Wipes   \n",
       "1                              Planetwise Wipe Pouch   \n",
       "2                Annas Dream Full Quilt with 2 Shams   \n",
       "3  Stop Pacifier Sucking without tears with Thumb...   \n",
       "4  Stop Pacifier Sucking without tears with Thumb...   \n",
       "\n",
       "                                              review  rating  sentiments  \n",
       "0  These flannel wipes are OK, but in my opinion ...       3           1  \n",
       "1  it came early and was not disappointed. i love...       5           1  \n",
       "2  Very soft and comfortable and warmer than it l...       5           1  \n",
       "3  This is a product well worth the purchase.  I ...       5           1  \n",
       "4  All of my kids have cried non-stop when I trie...       5           1  "
      ]
     },
     "execution_count": 3,
     "metadata": {},
     "output_type": "execute_result"
    }
   ],
   "source": [
    "df.head(5)"
   ]
  },
  {
   "cell_type": "code",
   "execution_count": 11,
   "metadata": {},
   "outputs": [],
   "source": [
    "import numpy as np\n",
    "import tensorflow\n",
    "from tensorflow import keras\n",
    "from keras import preprocessing\n",
    "from keras.preprocessing.text import Tokenizer\n",
    "from keras.utils import pad_sequences\n",
    "tokenizer = Tokenizer(oov_token='<OOV>')"
   ]
  },
  {
   "cell_type": "code",
   "execution_count": 10,
   "metadata": {},
   "outputs": [],
   "source": [
    "split = round(len(df)*0.8)\n",
    "train_reviews = df['review'][:split]\n",
    "train_label = df['sentiments'][:split]\n",
    "test_reviews = df['review'][split:]\n",
    "test_label = df['sentiments'][split:]"
   ]
  },
  {
   "cell_type": "code",
   "execution_count": 12,
   "metadata": {},
   "outputs": [],
   "source": [
    "training_sentences = []\n",
    "training_labels = []\n",
    "testing_sentences = []\n",
    "testing_labels = []\n",
    "for row in train_reviews:\n",
    "    training_sentences.append(str(row))\n",
    "for row in train_label:\n",
    "    training_labels.append(row)\n",
    "for row in test_reviews:\n",
    "    testing_sentences.append(str(row))\n",
    "for row in test_label:\n",
    "    testing_labels.append(row)"
   ]
  },
  {
   "cell_type": "code",
   "execution_count": 13,
   "metadata": {},
   "outputs": [],
   "source": [
    "vocab_size = 40000\n",
    "embedding_dim = 16\n",
    "max_length = 120\n",
    "trunc_type = 'post'\n",
    "oov_tok = '<OOV>'\n",
    "padding_type = 'post'"
   ]
  },
  {
   "cell_type": "code",
   "execution_count": 14,
   "metadata": {},
   "outputs": [],
   "source": [
    "tokenizer = Tokenizer(num_words=vocab_size, oov_token=oov_tok)\n",
    "tokenizer.fit_on_texts(training_sentences)\n",
    "word_index = tokenizer.word_index"
   ]
  },
  {
   "cell_type": "code",
   "execution_count": 15,
   "metadata": {},
   "outputs": [],
   "source": [
    "sequences = tokenizer.texts_to_sequences(training_sentences)\n",
    "padded = pad_sequences(sequences, maxlen=max_length, truncating=trunc_type)\n",
    "testing_sentences = tokenizer.texts_to_sequences(testing_sentences)\n",
    "testing_padded = pad_sequences(testing_sentences, maxlen=max_length)"
   ]
  },
  {
   "cell_type": "code",
   "execution_count": 17,
   "metadata": {},
   "outputs": [],
   "source": [
    "\n",
    "model = tensorflow.keras.Sequential([\n",
    "    tensorflow.keras.layers.Embedding(vocab_size, embedding_dim, input_length=max_length),\n",
    "    tensorflow.keras.layers.GlobalAveragePooling1D(),\n",
    "    tensorflow.keras.layers.Dense(6, activation='relu'),\n",
    "    tensorflow.keras.layers.Dense(1, activation='sigmoid')\n",
    "])\n",
    "model.compile(loss='binary_crossentropy', optimizer='adam', metrics=['accuracy'])"
   ]
  },
  {
   "cell_type": "code",
   "execution_count": 18,
   "metadata": {},
   "outputs": [
    {
     "name": "stdout",
     "output_type": "stream",
     "text": [
      "Model: \"sequential_1\"\n",
      "_________________________________________________________________\n",
      " Layer (type)                Output Shape              Param #   \n",
      "=================================================================\n",
      " embedding_1 (Embedding)     (None, 120, 16)           640000    \n",
      "                                                                 \n",
      " global_average_pooling1d_1   (None, 16)               0         \n",
      " (GlobalAveragePooling1D)                                        \n",
      "                                                                 \n",
      " dense_2 (Dense)             (None, 6)                 102       \n",
      "                                                                 \n",
      " dense_3 (Dense)             (None, 1)                 7         \n",
      "                                                                 \n",
      "=================================================================\n",
      "Total params: 640,109\n",
      "Trainable params: 640,109\n",
      "Non-trainable params: 0\n",
      "_________________________________________________________________\n"
     ]
    }
   ],
   "source": [
    "model.summary()"
   ]
  },
  {
   "cell_type": "code",
   "execution_count": 19,
   "metadata": {},
   "outputs": [
    {
     "name": "stdout",
     "output_type": "stream",
     "text": [
      "Epoch 1/20\n",
      "4589/4589 [==============================] - 18s 4ms/step - loss: 0.2920 - accuracy: 0.8832 - val_loss: 0.2144 - val_accuracy: 0.9160\n",
      "Epoch 2/20\n",
      "4589/4589 [==============================] - 17s 4ms/step - loss: 0.2088 - accuracy: 0.9143 - val_loss: 0.2010 - val_accuracy: 0.9164\n",
      "Epoch 3/20\n",
      "4589/4589 [==============================] - 18s 4ms/step - loss: 0.1922 - accuracy: 0.9212 - val_loss: 0.1943 - val_accuracy: 0.9199\n",
      "Epoch 4/20\n",
      "4589/4589 [==============================] - 18s 4ms/step - loss: 0.1822 - accuracy: 0.9255 - val_loss: 0.1955 - val_accuracy: 0.9200\n",
      "Epoch 5/20\n",
      "4589/4589 [==============================] - 18s 4ms/step - loss: 0.1742 - accuracy: 0.9289 - val_loss: 0.2001 - val_accuracy: 0.9181\n",
      "Epoch 6/20\n",
      "4589/4589 [==============================] - 18s 4ms/step - loss: 0.1676 - accuracy: 0.9314 - val_loss: 0.2014 - val_accuracy: 0.9172\n",
      "Epoch 7/20\n",
      "4589/4589 [==============================] - 18s 4ms/step - loss: 0.1604 - accuracy: 0.9340 - val_loss: 0.2050 - val_accuracy: 0.9175\n",
      "Epoch 8/20\n",
      "4589/4589 [==============================] - 18s 4ms/step - loss: 0.1539 - accuracy: 0.9366 - val_loss: 0.2131 - val_accuracy: 0.9179\n",
      "Epoch 9/20\n",
      "4589/4589 [==============================] - 18s 4ms/step - loss: 0.1475 - accuracy: 0.9393 - val_loss: 0.2210 - val_accuracy: 0.9178\n",
      "Epoch 10/20\n",
      "4589/4589 [==============================] - 18s 4ms/step - loss: 0.1420 - accuracy: 0.9418 - val_loss: 0.2247 - val_accuracy: 0.9143\n",
      "Epoch 11/20\n",
      "4589/4589 [==============================] - 18s 4ms/step - loss: 0.1368 - accuracy: 0.9432 - val_loss: 0.2372 - val_accuracy: 0.9131\n",
      "Epoch 12/20\n",
      "4589/4589 [==============================] - 18s 4ms/step - loss: 0.1323 - accuracy: 0.9451 - val_loss: 0.2443 - val_accuracy: 0.9146\n",
      "Epoch 13/20\n",
      "4589/4589 [==============================] - 18s 4ms/step - loss: 0.1280 - accuracy: 0.9461 - val_loss: 0.2531 - val_accuracy: 0.9127\n",
      "Epoch 14/20\n",
      "4589/4589 [==============================] - 18s 4ms/step - loss: 0.1237 - accuracy: 0.9479 - val_loss: 0.2666 - val_accuracy: 0.9126\n",
      "Epoch 15/20\n",
      "4589/4589 [==============================] - 18s 4ms/step - loss: 0.1205 - accuracy: 0.9492 - val_loss: 0.2690 - val_accuracy: 0.9128\n",
      "Epoch 16/20\n",
      "4589/4589 [==============================] - 18s 4ms/step - loss: 0.1163 - accuracy: 0.9509 - val_loss: 0.2819 - val_accuracy: 0.9125\n",
      "Epoch 17/20\n",
      "4589/4589 [==============================] - 18s 4ms/step - loss: 0.1123 - accuracy: 0.9538 - val_loss: 0.2894 - val_accuracy: 0.9090\n",
      "Epoch 18/20\n",
      "4589/4589 [==============================] - 18s 4ms/step - loss: 0.1088 - accuracy: 0.9563 - val_loss: 0.3126 - val_accuracy: 0.9037\n",
      "Epoch 19/20\n",
      "4589/4589 [==============================] - 18s 4ms/step - loss: 0.1049 - accuracy: 0.9585 - val_loss: 0.3092 - val_accuracy: 0.9069\n",
      "Epoch 20/20\n",
      "4589/4589 [==============================] - 18s 4ms/step - loss: 0.1007 - accuracy: 0.9609 - val_loss: 0.3285 - val_accuracy: 0.9075\n"
     ]
    }
   ],
   "source": [
    "training_labels_final = np.array(training_labels)\n",
    "testing_labels_final = np.array(testing_labels)\n",
    "history = model.fit(padded, training_labels_final, epochs=20, validation_data=(testing_padded, testing_labels_final))"
   ]
  }
 ],
 "metadata": {
  "kernelspec": {
   "display_name": "Python 3.10.8 64-bit (microsoft store)",
   "language": "python",
   "name": "python3"
  },
  "language_info": {
   "codemirror_mode": {
    "name": "ipython",
    "version": 3
   },
   "file_extension": ".py",
   "mimetype": "text/x-python",
   "name": "python",
   "nbconvert_exporter": "python",
   "pygments_lexer": "ipython3",
   "version": "3.10.8"
  },
  "orig_nbformat": 4,
  "vscode": {
   "interpreter": {
    "hash": "7e9ef51448d16941c4f997ffcd0c1f56b014b490af7aa3cb22921e9185acb223"
   }
  }
 },
 "nbformat": 4,
 "nbformat_minor": 2
}
